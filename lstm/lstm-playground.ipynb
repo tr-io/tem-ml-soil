{
 "cells": [
  {
   "cell_type": "code",
   "execution_count": 2,
   "metadata": {},
   "outputs": [],
   "source": [
    "import os\n",
    "import torch\n",
    "import torch.nn as nn\n",
    "import numpy as np"
   ]
  },
  {
   "cell_type": "code",
   "execution_count": 3,
   "metadata": {},
   "outputs": [],
   "source": [
    "input_dim = 5\n",
    "hidden_dim = 10\n",
    "n_layers = 1\n",
    "\n",
    "lstm_layer = nn.LSTM(input_dim, hidden_dim, n_layers, batch_first=True) # create LSTM nn layer"
   ]
  },
  {
   "cell_type": "code",
   "execution_count": 9,
   "metadata": {},
   "outputs": [
    {
     "name": "stdout",
     "output_type": "stream",
     "text": [
      "tensor([[[-0.8283, -0.5809,  1.0821, -0.4062, -0.3653]]])\n",
      "tensor([[[-0.7743, -1.1925,  0.4964, -0.2805,  1.6647, -1.1450,  1.1651,\n",
      "           1.0934, -1.3739,  0.2908]]])\n",
      "tensor([[[-0.7724,  0.7309, -1.7308,  1.5870, -0.2994,  0.8916, -0.0591,\n",
      "           0.6073, -0.7936, -0.1022]]])\n"
     ]
    }
   ],
   "source": [
    "# sizes for tensor\n",
    "batch_size = 1 # batch size for data, how much data is trained at once (in one iteration)\n",
    "seq_len = 1 # sequence length of the LSTM - \"how many times it unrolls itself\"\n",
    "\n",
    "# generate dummy data\n",
    "# size is a dynamically sized variable\n",
    "inp = torch.randn(batch_size, seq_len, input_dim) # input tensor - batch_size * seq_len * input_dim size\n",
    "print(inp)\n",
    "hidden_state = torch.randn(n_layers, batch_size, hidden_dim) # hidden state\n",
    "print(hidden_state)\n",
    "cell_state = torch.randn(n_layers, batch_size, hidden_dim) # cell state\n",
    "print(cell_state)\n",
    "hidden = (hidden_state, cell_state) # hidden state + cell state stored in tuple"
   ]
  },
  {
   "cell_type": "code",
   "execution_count": 12,
   "metadata": {},
   "outputs": [
    {
     "name": "stdout",
     "output_type": "stream",
     "text": [
      "Output shape:  torch.Size([1, 1, 10])\n",
      "Hidden layer:  (tensor([[[-0.0143,  0.2428, -0.3954,  0.2575, -0.2470, -0.0405,  0.0171,\n",
      "           0.1544, -0.1639, -0.0888]]], grad_fn=<StackBackward>), tensor([[[-0.0251,  0.4518, -0.7909,  0.5165, -0.5177, -0.0831,  0.0343,\n",
      "           0.3913, -0.3279, -0.1972]]], grad_fn=<StackBackward>))\n"
     ]
    }
   ],
   "source": [
    "out, hidden = lstm_layer(inp, hidden)\n",
    "print(\"Output shape: \", out.shape)\n",
    "print(\"Hidden layer: \", hidden)"
   ]
  },
  {
   "cell_type": "code",
   "execution_count": 15,
   "metadata": {},
   "outputs": [
    {
     "name": "stdout",
     "output_type": "stream",
     "text": [
      "torch.Size([1, 3, 10])\n"
     ]
    }
   ],
   "source": [
    "seq_len = 3\n",
    "inp = torch.randn(batch_size, seq_len, input_dim)\n",
    "out, hidden = lstm_layer(inp, hidden)\n",
    "print(out.shape)"
   ]
  },
  {
   "cell_type": "code",
   "execution_count": 16,
   "metadata": {},
   "outputs": [
    {
     "name": "stdout",
     "output_type": "stream",
     "text": [
      "torch.Size([10])\n",
      "tensor([ 0.2422,  0.0633, -0.0863,  0.0454, -0.0050, -0.0235,  0.0989,  0.3786,\n",
      "        -0.1616, -0.0126], grad_fn=<SliceBackward>)\n"
     ]
    }
   ],
   "source": [
    "# get last output\n",
    "out = out.squeeze()[-1, :]\n",
    "print(out.shape)\n",
    "print(out)"
   ]
  }
 ],
 "metadata": {
  "kernelspec": {
   "display_name": "Python 3",
   "language": "python",
   "name": "python3"
  },
  "language_info": {
   "codemirror_mode": {
    "name": "ipython",
    "version": 3
   },
   "file_extension": ".py",
   "mimetype": "text/x-python",
   "name": "python",
   "nbconvert_exporter": "python",
   "pygments_lexer": "ipython3",
   "version": "3.6.5"
  }
 },
 "nbformat": 4,
 "nbformat_minor": 4
}
