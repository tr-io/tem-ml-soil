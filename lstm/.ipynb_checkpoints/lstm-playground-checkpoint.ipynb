{
 "cells": [
  {
   "cell_type": "code",
   "execution_count": 2,
   "metadata": {},
   "outputs": [],
   "source": [
    "import os\n",
    "import torch\n",
    "import torch.nn as nn\n",
    "import numpy as np"
   ]
  },
  {
   "cell_type": "code",
   "execution_count": 3,
   "metadata": {},
   "outputs": [],
   "source": [
    "input_dim = 5\n",
    "hidden_dim = 10\n",
    "n_layers = 1\n",
    "\n",
    "lstm_layer = nn.LSTM(input_dim, hidden_dim, n_layers, batch_first=True) # create LSTM nn layer"
   ]
  },
  {
   "cell_type": "code",
   "execution_count": 7,
   "metadata": {},
   "outputs": [
    {
     "name": "stdout",
     "output_type": "stream",
     "text": [
      "tensor([[[ 0.1254, -1.4977, -1.7131,  0.2818,  1.7672]]])\n",
      "tensor([[[ 0.0226, -0.6357,  1.8450,  0.7924,  0.5205,  0.2565,  0.2036,\n",
      "           1.9547, -1.7603,  0.0853]]])\n",
      "tensor([[[ 0.6729,  0.7551,  0.6449, -0.4247, -0.3480,  0.9740,  0.8005,\n",
      "          -0.8999,  0.5377, -0.8756]]])\n"
     ]
    }
   ],
   "source": [
    "# sizes for tensor\n",
    "batch_size = 1 # batch size for data, how much data is trained at once (in one iteration)\n",
    "seq_len = 1 # sequence length of the LSTM - \"how many times it unrolls itself\"\n",
    "\n",
    "# generate dummy data\n",
    "# size is a dynamically sized variable\n",
    "inp = torch.randn(batch_size, seq_len, input_dim) # input tensor - batch_size * seq_len * input_dim size\n",
    "print(inp)\n",
    "hidden_state = torch.randn(n_layers, batch_size, hidden_dim) # hidden state\n",
    "print(hidden_state)\n",
    "cell_state = torch.randn(n_layers, batch_size, hidden_dim) # cell state\n",
    "print(cell_state)"
   ]
  },
  {
   "cell_type": "code",
   "execution_count": null,
   "metadata": {},
   "outputs": [],
   "source": [
    "out, hidden = lstm_layer(inp, hidden)\n",
    "print(\"Output shape: \", out.shape)\n",
    "print(\"Hidden layer: \", hidden)"
   ]
  }
 ],
 "metadata": {
  "kernelspec": {
   "display_name": "Python 3",
   "language": "python",
   "name": "python3"
  },
  "language_info": {
   "codemirror_mode": {
    "name": "ipython",
    "version": 3
   },
   "file_extension": ".py",
   "mimetype": "text/x-python",
   "name": "python",
   "nbconvert_exporter": "python",
   "pygments_lexer": "ipython3",
   "version": "3.6.5"
  }
 },
 "nbformat": 4,
 "nbformat_minor": 4
}
